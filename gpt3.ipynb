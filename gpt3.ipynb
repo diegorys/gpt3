{
 "cells": [
  {
   "cell_type": "markdown",
   "id": "29ce86fc",
   "metadata": {},
   "source": [
    "# GPT-3\n",
    "\n",
    "Lo primero es registrarse aquí:\n",
    "\n",
    "https://beta.openai.com/\n",
    "\n",
    "Desde [Playground](https://beta.openai.com/playground/) podemos resolver diferentes tipos de problema.\n",
    "\n",
    "A continuación, se debe generar un **API-Key**:\n",
    "\n",
    "https://beta.openai.com/account/api-keys\n",
    "\n",
    "Apuntar el **API-Key** generado.\n",
    "\n",
    "A continuación, instalar el paquete **openapi**:\n",
    "\n",
    "```python\n",
    "pip install openai\n",
    "```"
   ]
  },
  {
   "cell_type": "code",
   "execution_count": 1,
   "id": "41312b69",
   "metadata": {},
   "outputs": [],
   "source": [
    "import os\n",
    "import openai\n",
    "openai.api_key = os.getenv(\"OPENAI_API_KEY\")"
   ]
  },
  {
   "cell_type": "markdown",
   "id": "4be661ac",
   "metadata": {},
   "source": [
    "Ejemplo en español:"
   ]
  },
  {
   "cell_type": "code",
   "execution_count": 2,
   "id": "ddec33c9",
   "metadata": {},
   "outputs": [
    {
     "data": {
      "text/plain": [
       "'5_dedos'"
      ]
     },
     "execution_count": 2,
     "metadata": {},
     "output_type": "execute_result"
    }
   ],
   "source": [
    "examples = \"Tengo 2 ojos|2_ojos\\nEl cuerpo tiene una nariz|1_nariz\"\n",
    "request = \"tengo cinco dedos\"\n",
    "prompt = examples + \"\\n\" + request + \"|\"\n",
    "restart_sequence = \"\\n\"\n",
    "response = openai.Completion.create(\n",
    "  engine=\"davinci\",\n",
    "  prompt=prompt,\n",
    "  temperature=0,\n",
    "  max_tokens=30,\n",
    "  top_p=1,\n",
    "  frequency_penalty=0,\n",
    "  presence_penalty=0,\n",
    "  stop=[\"\\n\"]\n",
    ")\n",
    "response[\"choices\"][0][\"text\"]"
   ]
  }
 ],
 "metadata": {
  "kernelspec": {
   "display_name": "Python 3 (ipykernel)",
   "language": "python",
   "name": "python3"
  },
  "language_info": {
   "codemirror_mode": {
    "name": "ipython",
    "version": 3
   },
   "file_extension": ".py",
   "mimetype": "text/x-python",
   "name": "python",
   "nbconvert_exporter": "python",
   "pygments_lexer": "ipython3",
   "version": "3.9.7"
  }
 },
 "nbformat": 4,
 "nbformat_minor": 5
}
